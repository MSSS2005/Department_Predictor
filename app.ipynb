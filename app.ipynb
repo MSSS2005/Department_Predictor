{
 "cells": [
  {
   "cell_type": "code",
   "execution_count": 35,
   "metadata": {},
   "outputs": [],
   "source": [
    "import numpy as np\n",
    "from flask import Flask,request,render_template\n",
    "from sklearn.preprocessing import LabelEncoder"
   ]
  },
  {
   "cell_type": "code",
   "execution_count": 36,
   "metadata": {},
   "outputs": [],
   "source": [
    "import pickle\n",
    "\n",
    "# Load the model from the file\n",
    "with open('models/final_model.pkl', 'rb') as file:\n",
    "    model = pickle.load(file)\n",
    "\n",
    "# Now you can use 'model' to make predictions\n",
    "# Example: model.predict(data)\n"
   ]
  },
  {
   "cell_type": "code",
   "execution_count": 37,
   "metadata": {},
   "outputs": [],
   "source": [
    "# Load the LabelEncoder\n",
    "with open('models/label_encoder.pkl', 'rb') as le_file:\n",
    "    label_encoder = pickle.load(le_file)"
   ]
  },
  {
   "cell_type": "code",
   "execution_count": 38,
   "metadata": {},
   "outputs": [
    {
     "name": "stdout",
     "output_type": "stream",
     "text": [
      "Predicted Department (encoded): 3\n"
     ]
    },
    {
     "name": "stderr",
     "output_type": "stream",
     "text": [
      "C:\\Users\\MSSS\\AppData\\Roaming\\Python\\Python312\\site-packages\\sklearn\\base.py:493: UserWarning: X does not have valid feature names, but RandomForestClassifier was fitted with feature names\n",
      "  warnings.warn(\n"
     ]
    }
   ],
   "source": [
    "# Example new data (ensure it matches the training features)\n",
    "new_data = [[50, 1, 20, 5, 1, 10, 2]]  # Replace with your actual data\n",
    "\n",
    "# Make predictions\n",
    "predicted_department = model.predict(new_data)[0]\n",
    "print(f'Predicted Department (encoded): {predicted_department}')"
   ]
  },
  {
   "cell_type": "code",
   "execution_count": 39,
   "metadata": {},
   "outputs": [
    {
     "name": "stdout",
     "output_type": "stream",
     "text": [
      "<class 'dict'>\n"
     ]
    }
   ],
   "source": [
    "print(type(label_encoder))  # Should output <class 'sklearn.preprocessing._label.LabelEncoder'>\n"
   ]
  },
  {
   "cell_type": "code",
   "execution_count": 40,
   "metadata": {},
   "outputs": [
    {
     "name": "stdout",
     "output_type": "stream",
     "text": [
      "{0: 'Cardiology', 1: 'Dermatology', 2: 'ENT', 3: 'Gastroenterology', 4: 'Neurology', 5: 'Oncology', 6: 'Ophthalmology', 7: 'Orthopaedics', 8: 'Psychiatry', 9: 'Pulmonology', 10: 'Rheumatology', 11: 'Urology'}\n"
     ]
    }
   ],
   "source": [
    "# Assuming label_encoder['Department'].classes_ and label_encoder['Department'].transform(label_encoder['Department'].classes_) are available\n",
    "department_mapping = dict(zip(label_encoder['Department'].transform(label_encoder['Department'].classes_), label_encoder['Department'].classes_))\n",
    "\n",
    "# Convert the keys to standard integers if they are not already\n",
    "department_mapping = {int(k): v for k, v in department_mapping.items()}\n",
    "\n",
    "# Print the dictionary in the desired format\n",
    "print(department_mapping)\n"
   ]
  },
  {
   "cell_type": "code",
   "execution_count": 41,
   "metadata": {},
   "outputs": [
    {
     "name": "stdout",
     "output_type": "stream",
     "text": [
      "Predicted departments: [np.int64(3)]\n",
      "Patient 1 Predicted Department: Gastroenterology\n"
     ]
    }
   ],
   "source": [
    "# Department mapping\n",
    "department_mapping = {0: 'Cardiology', 1: 'Dermatology', 2: 'ENT', 3: 'Gastroenterology', 4: 'Neurology', 5: 'Oncology', 6: 'Ophthalmology', 7: 'Orthopaedics', 8: 'Psychiatry', 9: 'Pulmonology', 10: 'Rheumatology', 11: 'Urology'}\n",
    "\n",
    "\n",
    "# Ensure predicted_department is iterable\n",
    "if isinstance(predicted_department, (int, np.integer)):\n",
    "    predicted_department_list = [predicted_department]\n",
    "else:\n",
    "    predicted_department_list = list(predicted_department)\n",
    "\n",
    "# Print the predicted departments to debug\n",
    "print(\"Predicted departments:\", predicted_department_list)\n",
    "\n",
    "# Decode the predicted labels\n",
    "decoded_departments = []\n",
    "for pred in predicted_department_list:\n",
    "    if pred in department_mapping:\n",
    "        decoded_departments.append(department_mapping[pred])\n",
    "    else:\n",
    "        print(f\"Warning: {pred} not found in department_mapping\")\n",
    "\n",
    "# Print the decoded departments\n",
    "for i, dept in enumerate(decoded_departments):\n",
    "    print(f'Patient {i+1} Predicted Department: {dept}')\n"
   ]
  },
  {
   "cell_type": "code",
   "execution_count": 42,
   "metadata": {},
   "outputs": [],
   "source": [
    "app = Flask(__name__)"
   ]
  },
  {
   "cell_type": "code",
   "execution_count": 43,
   "metadata": {},
   "outputs": [],
   "source": [
    "@app.route('/')\n",
    "def home():\n",
    "    return render_template('index.html')"
   ]
  },
  {
   "cell_type": "code",
   "execution_count": 44,
   "metadata": {},
   "outputs": [],
   "source": [
    "@app.route('/predict',methods=['POST'])\n",
    "\n",
    "def predict():\n",
    "    int_features = [float(x)  for x in request.form.values()]         #Taking the values in the form\n",
    "    features = [np.array(int_features)]            #Convert the form to the features in [a,b]  form \n",
    "    prediction = model.predict(features)\n",
    "\n",
    "\n",
    "    output =  round(prediction[0],2)\n",
    "\n",
    "    return render_template('index.html', prediction_text = 'The predicted department is {}'.format(output))"
   ]
  },
  {
   "cell_type": "code",
   "execution_count": 45,
   "metadata": {},
   "outputs": [
    {
     "name": "stdout",
     "output_type": "stream",
     "text": [
      " * Serving Flask app '__main__'\n",
      " * Debug mode: off\n"
     ]
    },
    {
     "name": "stderr",
     "output_type": "stream",
     "text": [
      "WARNING: This is a development server. Do not use it in a production deployment. Use a production WSGI server instead.\n",
      " * Running on http://127.0.0.1:5000\n",
      "Press CTRL+C to quit\n",
      "127.0.0.1 - - [25/Sep/2024 09:36:35] \"GET / HTTP/1.1\" 200 -\n",
      "C:\\Users\\MSSS\\AppData\\Roaming\\Python\\Python312\\site-packages\\sklearn\\base.py:493: UserWarning: X does not have valid feature names, but RandomForestClassifier was fitted with feature names\n",
      "  warnings.warn(\n",
      "127.0.0.1 - - [25/Sep/2024 09:36:50] \"POST /predict HTTP/1.1\" 200 -\n",
      "C:\\Users\\MSSS\\AppData\\Roaming\\Python\\Python312\\site-packages\\sklearn\\base.py:493: UserWarning: X does not have valid feature names, but RandomForestClassifier was fitted with feature names\n",
      "  warnings.warn(\n",
      "127.0.0.1 - - [25/Sep/2024 09:39:40] \"POST /predict HTTP/1.1\" 200 -\n",
      "C:\\Users\\MSSS\\AppData\\Roaming\\Python\\Python312\\site-packages\\sklearn\\base.py:493: UserWarning: X does not have valid feature names, but RandomForestClassifier was fitted with feature names\n",
      "  warnings.warn(\n",
      "127.0.0.1 - - [25/Sep/2024 09:41:55] \"POST /predict HTTP/1.1\" 200 -\n"
     ]
    }
   ],
   "source": [
    "if __name__  ==  \"__main__\":\n",
    "    app.run()"
   ]
  }
 ],
 "metadata": {
  "kernelspec": {
   "display_name": "Python 3",
   "language": "python",
   "name": "python3"
  },
  "language_info": {
   "codemirror_mode": {
    "name": "ipython",
    "version": 3
   },
   "file_extension": ".py",
   "mimetype": "text/x-python",
   "name": "python",
   "nbconvert_exporter": "python",
   "pygments_lexer": "ipython3",
   "version": "3.12.6"
  }
 },
 "nbformat": 4,
 "nbformat_minor": 2
}
